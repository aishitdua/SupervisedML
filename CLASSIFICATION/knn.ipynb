{
 "cells": [
  {
   "cell_type": "markdown",
   "metadata": {},
   "source": [
    "#### a low k implies that the model is highly complex and may result in overfitting of the data which we dont want\n",
    "### JACCARD INDEX\n",
    "It implies \n",
    "J.I=(pred ^ actual)/(pred U actual)        (^=union, and pred and actual are sets of results from model and test set)\n",
    "### F1 SCORES\n",
    "True Positives=T.P.(ACTUAL=1,PREDICTED=1)\n",
    "True Negatives=T.N.(ACTUAL=0,PREDICTED=0)\n",
    "False Positives=F.P.(ACTUAL=1,PREDICTED=0)\n",
    "False Negatives=F.N.(ACTUAL=0,PREDICTED=1)\n",
    "PRECISION=TP/(TP+FP)\n",
    "RECALL=TP/(TP+FN)\n",
    "F-1 scores= 2*(PRC*REC)/(PRC+REC)\n",
    "###"
   ]
  }
 ],
 "metadata": {
  "kernelspec": {
   "display_name": "Python 3",
   "language": "python",
   "name": "python3"
  },
  "language_info": {
   "codemirror_mode": {
    "name": "ipython",
    "version": 3
   },
   "file_extension": ".py",
   "mimetype": "text/x-python",
   "name": "python",
   "nbconvert_exporter": "python",
   "pygments_lexer": "ipython3",
   "version": "3.7.3"
  }
 },
 "nbformat": 4,
 "nbformat_minor": 2
}
